{
 "cells": [
  {
   "cell_type": "markdown",
   "metadata": {},
   "source": [
    "## Summary: Three ways to do SVD in python  \n",
    "**The first is for normal matrix SVD using numpy.linalg;\n",
    "The second and the third is specially for sparse SVD.   \n",
    "There are 2 differences between the second and the third:   \n",
    "1) the second's singular values are in increasing order while the third's are in descending order.  \n",
    "2) The left singular vector of the seocnd is the transpose of the third one.**"
   ]
  },
  {
   "cell_type": "code",
   "execution_count": 1,
   "metadata": {},
   "outputs": [],
   "source": [
    "from __future__ import division\n",
    "import numpy as np\n",
    "import random\n",
    "from numpy import linalg as la\n",
    "from sparsesvd import sparsesvd\n",
    "from scipy.sparse.linalg import norm\n",
    "import scipy.sparse as ss\n",
    "import scipy.io\n",
    "import random"
   ]
  },
  {
   "cell_type": "markdown",
   "metadata": {},
   "source": [
    "### Parameter Setting\n",
    "- n1,n2 are row number and col number of a random Matrix respectively\n",
    "- m is the scale of sampeling\n",
    "- Omega is the sample space\n",
    "- P_Omega_M is the sparse matrix we need to decompose with"
   ]
  },
  {
   "cell_type": "code",
   "execution_count": 2,
   "metadata": {},
   "outputs": [],
   "source": [
    "n1, n2, r = 150, 300, 10\n",
    "m = r*(n1+n2-r);\n",
    "M = np.random.random((n1,r)).dot(np.random.random((r,n2)))\n",
    "ind = random.sample(range(n1*n2),m)\n",
    "Omega = np.unravel_index(ind, (n1,n2))\n",
    "data = M[Omega]\n",
    "P_Omega_M = ss.csr_matrix((data,Omega),shape = (n1,n2))"
   ]
  },
  {
   "cell_type": "code",
   "execution_count": 3,
   "metadata": {},
   "outputs": [
    {
     "name": "stdout",
     "output_type": "stream",
     "text": [
      "(150, 150) (150,) (300, 300)\n"
     ]
    },
    {
     "data": {
      "text/plain": [
       "array([[3.52586193, 3.72613913, 4.04847872, ..., 3.26770844, 3.14296316,\n",
       "        2.7044627 ],\n",
       "       [2.11504979, 2.16329274, 2.99696294, ..., 2.49245926, 2.04143089,\n",
       "        2.08976289],\n",
       "       [2.39812552, 2.75888171, 3.12933592, ..., 2.90851031, 1.96067128,\n",
       "        2.10516137],\n",
       "       ...,\n",
       "       [2.79861816, 3.32616636, 3.19874329, ..., 2.55913735, 2.75948708,\n",
       "        2.06194095],\n",
       "       [2.4423569 , 2.82182227, 2.81257629, ..., 1.48163053, 2.16153512,\n",
       "        1.92823386],\n",
       "       [1.39203038, 1.39700846, 1.47176637, ..., 1.78278154, 1.37685712,\n",
       "        0.91925431]])"
      ]
     },
     "execution_count": 3,
     "metadata": {},
     "output_type": "execute_result"
    }
   ],
   "source": [
    "# 1st\n",
    "U,s,V = la.svd(M)\n",
    "print (U.shape,s.shape,V.shape)\n",
    "S = np.zeros(M.shape)\n",
    "index = s.shape[0]\n",
    "S[:index, :index] = np.diag(s)\n",
    "np.dot(U,np.dot(S,V))"
   ]
  },
  {
   "cell_type": "code",
   "execution_count": 4,
   "metadata": {},
   "outputs": [
    {
     "name": "stdout",
     "output_type": "stream",
     "text": [
      "(150, 6) (6,) (6, 300)\n",
      "[ 39.66096567  40.86065823  41.46498624  42.05543051  42.67869924\n",
      " 275.05774197]\n"
     ]
    },
    {
     "data": {
      "text/plain": [
       "array([[2.40260114, 0.86144163, 1.93841812, ..., 2.1119544 , 1.64124341,\n",
       "        2.00495237],\n",
       "       [0.94036674, 1.50836185, 1.07327024, ..., 1.00010048, 0.85490759,\n",
       "        0.85429256],\n",
       "       [1.43914915, 1.38559485, 1.29759542, ..., 1.07552284, 0.86844104,\n",
       "        1.41718054],\n",
       "       ...,\n",
       "       [1.07300815, 1.83437428, 0.78209937, ..., 1.00152197, 1.27255597,\n",
       "        1.31871913],\n",
       "       [0.85647968, 1.34650564, 0.65940981, ..., 0.90650253, 0.98641336,\n",
       "        1.0504069 ],\n",
       "       [0.83541829, 0.76286011, 0.77417648, ..., 0.77262491, 0.58710677,\n",
       "        0.80988788]])"
      ]
     },
     "execution_count": 4,
     "metadata": {},
     "output_type": "execute_result"
    }
   ],
   "source": [
    "# 2nd\n",
    "u1,s1,v1 = ss.linalg.svds(P_Omega_M,6)\n",
    "print (u1.shape,s1.shape,v1.shape)\n",
    "print (s1)\n",
    "(u1*s1).dot(v1)"
   ]
  },
  {
   "cell_type": "code",
   "execution_count": 5,
   "metadata": {},
   "outputs": [
    {
     "name": "stdout",
     "output_type": "stream",
     "text": [
      "(6, 150) (6,) (6, 300)\n",
      "[275.05774197  42.67869924  42.05543051  41.46498624  40.86065823\n",
      "  39.66096567]\n"
     ]
    },
    {
     "data": {
      "text/plain": [
       "array([[2.40260114, 0.86144163, 1.93841812, ..., 2.1119544 , 1.64124341,\n",
       "        2.00495237],\n",
       "       [0.94036674, 1.50836185, 1.07327024, ..., 1.00010048, 0.85490759,\n",
       "        0.85429256],\n",
       "       [1.43914915, 1.38559485, 1.29759542, ..., 1.07552284, 0.86844104,\n",
       "        1.41718054],\n",
       "       ...,\n",
       "       [1.07300815, 1.83437428, 0.78209937, ..., 1.00152197, 1.27255597,\n",
       "        1.31871913],\n",
       "       [0.85647968, 1.34650564, 0.65940981, ..., 0.90650253, 0.98641336,\n",
       "        1.0504069 ],\n",
       "       [0.83541829, 0.76286011, 0.77417648, ..., 0.77262491, 0.58710677,\n",
       "        0.80988788]])"
      ]
     },
     "execution_count": 5,
     "metadata": {},
     "output_type": "execute_result"
    }
   ],
   "source": [
    "# 3rd\n",
    "ut, s, vt = sparsesvd(ss.csc_matrix(P_Omega_M),6)\n",
    "print (ut.shape,s.shape,vt.shape)\n",
    "print (s)\n",
    "(ut.T*s).dot(vt)"
   ]
  },
  {
   "cell_type": "code",
   "execution_count": null,
   "metadata": {},
   "outputs": [],
   "source": []
  }
 ],
 "metadata": {
  "kernelspec": {
   "display_name": "Python 3",
   "language": "python",
   "name": "python3"
  },
  "language_info": {
   "codemirror_mode": {
    "name": "ipython",
    "version": 3
   },
   "file_extension": ".py",
   "mimetype": "text/x-python",
   "name": "python",
   "nbconvert_exporter": "python",
   "pygments_lexer": "ipython3",
   "version": "3.7.3"
  }
 },
 "nbformat": 4,
 "nbformat_minor": 2
}
